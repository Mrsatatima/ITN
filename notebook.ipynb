{
 "cells": [
  {
   "cell_type": "code",
   "execution_count": 10,
   "metadata": {},
   "outputs": [
    {
     "name": "stdout",
     "output_type": "stream",
     "text": [
      "404\n"
     ]
    }
   ],
   "source": [
    "from script  import *\n",
    "text = 'C:/Users/ASUS/AppData/Local/Temp/tmpa70zfck3.py'\n",
    "\n",
    "vlayer = QgsVectorLayer(wards_shapefile, \"airports\", \"ogr\")\n",
    "vlayer2 = QgsVectorLayer(lga_shapefile, \"SHEET\", \"ogr\")\n",
    "vlayer3 = QgsVectorLayer(set_extent_shapefile, \"SHEET\", \"ogr\")\n",
    "\n",
    "# for field in vlayer.fields():\n",
    "#     print(field.name(), field.typeName())\n",
    "# vlayer.displayField()\n",
    "\n",
    "api ='5b3ce3597851110001cf62489ff9ae0b501e49cda73e83122c638e05'\n",
    "\n",
    "location = geo_location(wards_shapefile,set_extent_shapefile, \"Kwara\", \"Edu\",\"Tsaragi II\")\n",
    "start = '4.544522,8.456104'\n",
    "end = f\"{location[0]},{location[1]}\"\n",
    "params = {\"api_key\":api, \"start\":start,\"end\":end}\n",
    "link =f\"https://api.openrouteservice.org/v2/directions/driving-car\"\n",
    "r = requests.get(link, params)\n",
    "print(r.status_code)"
   ]
  },
  {
   "cell_type": "code",
   "execution_count": 4,
   "metadata": {},
   "outputs": [
    {
     "name": "stdout",
     "output_type": "stream",
     "text": [
      "Clip (native:clip)\n",
      "\n",
      "This algorithm clips a vector layer using the features of an additional polygon layer. Only the parts of the features in the Input layer that fall within the polygons of the Overlay layer will be added to the resulting layer.\n",
      "\n",
      "The attributes of the features are not modified, although properties such as area or length of the features will be modified by the clipping operation. If such properties are stored as attributes, those attributes will have to be manually updated.\n",
      "\n",
      "\n",
      "----------------\n",
      "Input parameters\n",
      "----------------\n",
      "\n",
      "INPUT: Input layer\n",
      "\n",
      "\tParameter type:\tQgsProcessingParameterFeatureSource\n",
      "\n",
      "\tAccepted data types:\n",
      "\t\t- str: layer ID\n",
      "\t\t- str: layer name\n",
      "\t\t- str: layer source\n",
      "\t\t- QgsProcessingFeatureSourceDefinition\n",
      "\t\t- QgsProperty\n",
      "\t\t- QgsVectorLayer\n",
      "\n",
      "OVERLAY: Overlay layer\n",
      "\n",
      "\tParameter type:\tQgsProcessingParameterFeatureSource\n",
      "\n",
      "\tAccepted data types:\n",
      "\t\t- str: layer ID\n",
      "\t\t- str: layer name\n",
      "\t\t- str: layer source\n",
      "\t\t- QgsProcessingFeatureSourceDefinition\n",
      "\t\t- QgsProperty\n",
      "\t\t- QgsVectorLayer\n",
      "\n",
      "OUTPUT: Clipped\n",
      "\n",
      "\tParameter type:\tQgsProcessingParameterFeatureSink\n",
      "\n",
      "\tAccepted data types:\n",
      "\t\t- str: destination vector file, e.g. 'd:/test.shp'\n",
      "\t\t- str: 'memory:' to store result in temporary memory layer\n",
      "\t\t- str: using vector provider ID prefix and destination URI, e.g. 'postgres:…' to store result in PostGIS table\n",
      "\t\t- QgsProcessingOutputLayerDefinition\n",
      "\t\t- QgsProperty\n",
      "\n",
      "----------------\n",
      "Outputs\n",
      "----------------\n",
      "\n",
      "OUTPUT:  <QgsProcessingOutputVectorLayer>\n",
      "\tClipped\n"
     ]
    }
   ],
   "source": [
    "processing.algorithmHelp(\"native:clip\")\n",
    "# parameters = { 'INPUT' : state_extent, \n",
    "#                'VALUE' : 1, \n",
    "#                 }\n",
    "# point =processing.run('native:selectbylocation', parameters)\n",
    "# /algs = dict()\n",
    "# for alg in QgsApplication.processingRegistry().algorithms():\n",
    "#     algs[alg.displayName()] = alg.id()\n",
    "#     print(alg.displayName(), alg.id() )"
   ]
  }
 ],
 "metadata": {
  "kernelspec": {
   "display_name": "GIS",
   "language": "python",
   "name": "python3"
  },
  "language_info": {
   "codemirror_mode": {
    "name": "ipython",
    "version": 3
   },
   "file_extension": ".py",
   "mimetype": "text/x-python",
   "name": "python",
   "nbconvert_exporter": "python",
   "pygments_lexer": "ipython3",
   "version": "3.11.6"
  }
 },
 "nbformat": 4,
 "nbformat_minor": 2
}
