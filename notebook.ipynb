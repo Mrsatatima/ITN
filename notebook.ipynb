{
 "cells": [
  {
   "cell_type": "code",
   "execution_count": 1,
   "metadata": {},
   "outputs": [],
   "source": [
    "from script import *\n",
    "main()\n",
    "# import arcpy"
   ]
  },
  {
   "cell_type": "code",
   "execution_count": 2,
   "metadata": {},
   "outputs": [
    {
     "name": "stdout",
     "output_type": "stream",
     "text": [
      "2023_Kwara_P3B.xlsx\n",
      "['Guidelines - READ ME', 'Hypotheses', 'List of population', 'STATE SUMMARY', '1. ASA', '2. BARUTEN', '3. EDU', '4. EKITI', '5. IFELODUN', '6. ILORIN EAST', '7. ILORIN SOUTH ', '8. ILORIN WEST', '9. IREPODUN', '10. ISIN', '11. KAIAMA', '12. MORO', '13. OFFA', '14. OKE ERO', '15. OYUN', '16. PATIGI', 'Additional information', 'LGA store location']\n"
     ]
    }
   ],
   "source": [
    "print(file_name)\n",
    "excel_file = pd.ExcelFile(file_name)\n",
    "fle = pd.read_excel(file_name)\n",
    "print(excel_file.sheet_names)\n",
    "df = pd.DataFrame(fle)\n",
    "# print(df)"
   ]
  },
  {
   "cell_type": "code",
   "execution_count": 3,
   "metadata": {},
   "outputs": [
    {
     "name": "stdout",
     "output_type": "stream",
     "text": [
      "['1. ASA', '2. BARUTEN', '3. EDU', '4. EKITI', '5. IFELODUN', '6. ILORIN EAST', '7. ILORIN SOUTH ', '8. ILORIN WEST', '9. IREPODUN', '10. ISIN', '11. KAIAMA', '12. MORO', '13. OFFA', '14. OKE ERO', '15. OYUN', '16. PATIGI']\n"
     ]
    }
   ],
   "source": [
    "file = \"2023_Kwara_P3B.xlsx\"\n",
    "sheets = get_sheets(file)\n",
    "print(sheets)"
   ]
  },
  {
   "cell_type": "code",
   "execution_count": null,
   "metadata": {},
   "outputs": [
    {
     "name": "stdout",
     "output_type": "stream",
     "text": [
      "               Wards  Total communities  Population  Cumulative frequency  \\\n",
      "0  Okeweru Yowere II               66.0      9801.0               19091.0   \n",
      "1       Owode/Gbogun               47.0     11430.0               51970.0   \n",
      "2      Efue/Berikodo               53.0     13236.0               89813.0   \n",
      "3      Onire/Odegiwa               72.0     14943.0              118230.0   \n",
      "4          Budo Egba               36.0     15385.0              148725.0   \n",
      "5              Ogele               53.0     16235.0              164960.0   \n",
      "6             Laduba               17.0     19516.0              201447.0   \n",
      "7        Otte/Ballah               41.0     31735.0              233182.0   \n",
      "\n",
      "             Clusters  \n",
      "0   Cluster 1 (18668)  \n",
      "1   Cluster 2 (47815)  \n",
      "2   Cluster 3 (76962)  \n",
      "3  Cluster 4 (106109)  \n",
      "4  Cluster 5 (135256)  \n",
      "5  Cluster 6 (164403)  \n",
      "6  Cluster 7 (193550)  \n",
      "7  Cluster 8 (222697)  \n",
      "         Wards  Total communities  Population  Cumulative frequency  \\\n",
      "0          Owu               57.0      6667.0               23923.0   \n",
      "1         Alla               53.0      8708.0               39385.0   \n",
      "2        Ijara               42.0      9522.0               48907.0   \n",
      "3      Oke Aba               45.0      9531.0               58438.0   \n",
      "4    Isanlu II               46.0     10681.0               69119.0   \n",
      "5  Oke Onigbin               72.0     18982.0               98932.0   \n",
      "6  Oke Onigbin               72.0     18982.0               98932.0   \n",
      "\n",
      "            Clusters  \n",
      "0  Cluster 1 (18889)  \n",
      "1  Cluster 2 (31255)  \n",
      "2  Cluster 3 (43621)  \n",
      "3  Cluster 4 (55987)  \n",
      "4  Cluster 5 (68353)  \n",
      "5  Cluster 6 (80719)  \n",
      "6  Cluster 7 (93085)  \n"
     ]
    }
   ],
   "source": [
    "\n",
    "\n",
    "for sheet in sheets[:2]:\n",
    "    demo_df = pd.read_excel(file,sheet_name=sheet)\n",
    "    row_index=actual_header_row(demo_df)\n",
    "    clean_data = remove_first_blank_column(file,row_index,sheet)\n",
    "    new_data = remove_unwanted_columns(clean_data,[\"Wards\",\"List of contiguous communities/ settlements\",\"Population\\n(2023)\"])\n",
    "    base_data = remove_blank_wards_rows(new_data)\n",
    "    wards_df = drop_subtotal_rows(base_data)\n",
    "    # print(base_data[\"Wards\"])\n",
    "    final_df=create_random_cluster(wards_df) \n",
    "\n",
    "    print(final_df)\n",
    "    "
   ]
  }
 ],
 "metadata": {
  "kernelspec": {
   "display_name": "GIS",
   "language": "python",
   "name": "python3"
  },
  "language_info": {
   "codemirror_mode": {
    "name": "ipython",
    "version": 3
   },
   "file_extension": ".py",
   "mimetype": "text/x-python",
   "name": "python",
   "nbconvert_exporter": "python",
   "pygments_lexer": "ipython3",
   "version": "3.11.6"
  }
 },
 "nbformat": 4,
 "nbformat_minor": 2
}
