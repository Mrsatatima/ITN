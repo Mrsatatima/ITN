{
 "cells": [
  {
   "cell_type": "code",
   "execution_count": 21,
   "metadata": {},
   "outputs": [
    {
     "name": "stdout",
     "output_type": "stream",
     "text": [
      "1\n",
      "{'OUTPUT': <QgsVectorLayer: 'Clipped' (memory)>}\n",
      "[<qgis._core.QgsFeature object at 0x0000013F41E94F70>, <qgis._core.QgsFeature object at 0x0000013F3C2ECD30>]\n"
     ]
    }
   ],
   "source": [
    "from main  import *\n",
    "text = 'C:/Users/ASUS/AppData/Local/Temp/tmpa70zfck3.py'\n",
    "\n",
    "vlayer = QgsVectorLayer(wards_shapefile, \"airports\", \"ogr\")\n",
    "vlayer2 = QgsVectorLayer(lga_shapefile, \"SHEET\", \"ogr\")\n",
    "vlayer3 = QgsVectorLayer(set_extent_shapefile, \"SHEET\", \"ogr\")\n",
    "\n",
    "\n",
    "# for field in vlayer.fields():\n",
    "#     print(field.name(), field.typeName())\n",
    "# vlayer.displayField()\n",
    "\n",
    "query = '\"statename\"  =  \\'Kwara\\' AND  \"lganame\"  =  \\'Pategi\\'AND \"wardname\" = \\'Pategi 3\\''\n",
    "\n",
    "# print(len(list(vlayer.getFeatures())))\n",
    "state = crt_subset_lyr(vlayer, query)\n",
    "print(len(list(state.getFeatures())))\n",
    "# state2  = export_selected(vlayer3,state)\n",
    "# print((list(state.getFeatures())))\n",
    "\n",
    "state_extent  = clip_set_ext_layer(vlayer3,state)\n",
    "# # # clip_set_ext_layer(vlayer2,state)\n",
    "print(list(state_extent.getFeatures()))\n",
    "\n",
    "# processing.algorithmHelp(\"native:selectbylocation\")\n",
    "# parameters = { 'INPUT' : state_extent, \n",
    "#                'VALUE' : 1, \n",
    "#                 }\n",
    "# point =processing.run('native:selectbylocation', parameters)\n",
    "# /algs = dict()\n",
    "# for alg in QgsApplication.processingRegistry().algorithms():\n",
    "#     algs[alg.displayName()] = alg.id()\n",
    "#     print(alg.displayName(), alg.id() )"
   ]
  },
  {
   "cell_type": "code",
   "execution_count": null,
   "metadata": {},
   "outputs": [],
   "source": []
  },
  {
   "cell_type": "code",
   "execution_count": null,
   "metadata": {},
   "outputs": [],
   "source": [
    "# vlayer = load_vector_layer(wards_shapefile)\n",
    "vlayer = QgsVectorLayer(wards_shapefile, \"airports\", \"ogr\")\n",
    "vlayer2 = QgsVectorLayer(set_extent_shapefile, \"SHEET\", \"ogr\")\n",
    "\n",
    "# for field in vlayer.fields():\n",
    "#     print(field.name(), field.typeName())\n",
    "# vlayer.displayField()\n",
    "query = '\"statename\" = \\'Kwara\\' AND \"lganame\" = \\'Edu\\'AND \"wardname\" = \\'Tsaragi 3\\''\n",
    "print(vlayer2.crs().authid())\n",
    "\n",
    "\n",
    "\n",
    "# for ft in len(list(set_extent_layer.getFeatures())):\n",
    "\n",
    "print(len(list(set_extent_layer.getFeatures())))\n",
    "# print(len(list(vlayer2.getFeatures())))"
   ]
  },
  {
   "cell_type": "code",
   "execution_count": 3,
   "metadata": {},
   "outputs": [
    {
     "name": "stdout",
     "output_type": "stream",
     "text": [
      "['1. ASA', '2. BARUTEN', '3. EDU', '4. EKITI', '5. IFELODUN', '6. ILORIN EAST', '7. ILORIN SOUTH ', '8. ILORIN WEST', '9. IREPODUN', '10. ISIN', '11. KAIAMA', '12. MORO', '13. OFFA', '14. OKE ERO', '15. OYUN', '16. PATIGI']\n"
     ]
    }
   ],
   "source": [
    "def crt_subset_lyr(layer,query):\n",
    "    # memory_layer = QgsVectorLayer(\n",
    "    #     layer.dataProvider().dataSourceUri(),\n",
    "    #     layer.name() + '_selected',\n",
    "    #     'memory'\n",
    "    # )\n",
    "    set_extent_uri = f\"polygon?crs={vlayer2.crs().authid()}\"\n",
    "    memory_layer = QgsVectorLayer(set_extent_uri, \"set_extent\", \"memory\")\n",
    "    memory_layer.startEditing()\n",
    "    memory_layer.dataProvider().addAttributes(layer.fields())\n",
    "    memory_layer.updateFields()\n",
    "    for field in memory_layer.fields()\n",
    "    selected = vlayer2.getFeatures(QgsFeatureRequest().setFilterExpression(query))\n",
    "    # selected_features = [feature for feature in selected]\n",
    "    print(list(selected))\n",
    "    # Create a memory layer\n",
    "    \n",
    "\n",
    "    # Set the memory layer's fields\n",
    "   \n",
    "\n",
    "    # Add the selected features to the memory layer\n",
    "    print(list(selected))\n",
    "    for feature in selected:\n",
    "        memory_layer.addFeatures(feature)\n",
    "    memory_layer.commitChanges()\n",
    "    memory_layer.updateExtents()\n",
    "\n",
    "    print(list(memory_layer.getFeatures()))\n",
    "    return memory_layer"
   ]
  },
  {
   "cell_type": "code",
   "execution_count": null,
   "metadata": {},
   "outputs": [],
   "source": []
  },
  {
   "cell_type": "code",
   "execution_count": null,
   "metadata": {},
   "outputs": [
    {
     "name": "stdout",
     "output_type": "stream",
     "text": [
      "               Wards  Total communities  Population  Cumulative frequency  \\\n",
      "0  Okeweru Yowere II               66.0      9801.0               19091.0   \n",
      "1       Owode/Gbogun               47.0     11430.0               51970.0   \n",
      "2      Efue/Berikodo               53.0     13236.0               89813.0   \n",
      "3      Onire/Odegiwa               72.0     14943.0              118230.0   \n",
      "4          Budo Egba               36.0     15385.0              148725.0   \n",
      "5              Ogele               53.0     16235.0              164960.0   \n",
      "6             Laduba               17.0     19516.0              201447.0   \n",
      "7        Otte/Ballah               41.0     31735.0              233182.0   \n",
      "\n",
      "             Clusters  \n",
      "0   Cluster 1 (18668)  \n",
      "1   Cluster 2 (47815)  \n",
      "2   Cluster 3 (76962)  \n",
      "3  Cluster 4 (106109)  \n",
      "4  Cluster 5 (135256)  \n",
      "5  Cluster 6 (164403)  \n",
      "6  Cluster 7 (193550)  \n",
      "7  Cluster 8 (222697)  \n",
      "         Wards  Total communities  Population  Cumulative frequency  \\\n",
      "0          Owu               57.0      6667.0               23923.0   \n",
      "1         Alla               53.0      8708.0               39385.0   \n",
      "2        Ijara               42.0      9522.0               48907.0   \n",
      "3      Oke Aba               45.0      9531.0               58438.0   \n",
      "4    Isanlu II               46.0     10681.0               69119.0   \n",
      "5  Oke Onigbin               72.0     18982.0               98932.0   \n",
      "6  Oke Onigbin               72.0     18982.0               98932.0   \n",
      "\n",
      "            Clusters  \n",
      "0  Cluster 1 (18889)  \n",
      "1  Cluster 2 (31255)  \n",
      "2  Cluster 3 (43621)  \n",
      "3  Cluster 4 (55987)  \n",
      "4  Cluster 5 (68353)  \n",
      "5  Cluster 6 (80719)  \n",
      "6  Cluster 7 (93085)  \n"
     ]
    }
   ],
   "source": [
    "\n",
    "\n",
    "for sheet in sheets[:2]:\n",
    "    demo_df = pd.read_excel(file,sheet_name=sheet)\n",
    "    row_index=actual_header_row(demo_df)\n",
    "    clean_data = remove_first_blank_column(file,row_index,sheet)\n",
    "    new_data = remove_unwanted_columns(clean_data,[\"Wards\",\"List of contiguous communities/ settlements\",\"Population\\n(2023)\"])\n",
    "    base_data = remove_blank_wards_rows(new_data)\n",
    "    wards_df = drop_subtotal_rows(base_data)\n",
    "    # print(base_data[\"Wards\"])\n",
    "    final_df=create_random_cluster(wards_df) \n",
    "\n",
    "    print(final_df)\n",
    "    "
   ]
  }
 ],
 "metadata": {
  "kernelspec": {
   "display_name": "GIS",
   "language": "python",
   "name": "python3"
  },
  "language_info": {
   "codemirror_mode": {
    "name": "ipython",
    "version": 3
   },
   "file_extension": ".py",
   "mimetype": "text/x-python",
   "name": "python",
   "nbconvert_exporter": "python",
   "pygments_lexer": "ipython3",
   "version": "3.11.6"
  }
 },
 "nbformat": 4,
 "nbformat_minor": 2
}
