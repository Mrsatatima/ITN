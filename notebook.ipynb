{
 "cells": [
  {
   "cell_type": "code",
   "execution_count": 3,
   "metadata": {},
   "outputs": [
    {
     "name": "stdout",
     "output_type": "stream",
     "text": [
      "'abati alara': 'abati alara', 'aboto/odo-ode': 'aboto / odoode', 'adena': 'adena', 'adewole': 'adewole'\n",
      "'afon': 'afon', 'agbeyangi': 'agbeyangi / gbadamu', 'agbona/fata': 'agbona / fata', 'agunjin': 'agwijin'\n",
      "'ahogbada': 'aho', 'ayedun i': 'aiyedun', 'ajanaku': 'ajanaku / malete', 'ajase i': 'ajase 1'\n",
      "'ajase ii': 'ajase 2', 'ajikobi': 'ajikobi', 'akanbi i': 'akanbi 1', 'akanbi ii': 'akanbi 2'\n",
      "'akanbi iii': 'akanbi 3', 'akanbi iv': 'akanbi 4', 'akanbi v': 'akanbi 5', 'alanamu': 'alanamu'\n",
      "'alla': 'alla', 'apado': 'apado', 'aran': 'aran', 'arandun': 'arandun'\n",
      "'arobadi': 'arobadi', 'magaji are i': 'are 1', 'magaji are ii': 'are 2', 'babadudu': 'babadudu'\n",
      "'baboko': 'baboko', 'badari': 'badari', 'awe/orimaro/adigbogbo': 'awe / orimaro', 'balogun': 'balogun'\n",
      "'balogun fulani i': 'balogun fulani 1', 'balogun fulani ii': 'balogun fulani 2', 'balogun fulani iii': 'balogun fulani 3', 'bani': 'bani'\n",
      "'bode saadu': 'bode saadu', 'bode/babane': 'bode babane', 'boriya/shiya': 'boriya / shiya', 'budo egba': 'budo-egba'\n",
      "'bwen/kiyoru': 'bwen / kiyoru', 'edidi': 'edidi', 'efue/berikodo': 'efue / berikodo', 'ejidongari': 'egidogari'\n",
      "'ekan': 'ekan', 'erin north': 'erin north', 'erin south': 'erin south', 'eruku': 'eruku'\n",
      "'esie/ijan': 'esie-ijan', 'essa a': 'essa a', 'essa b': 'essa b', 'essa c': 'essa c'\n",
      "'gambari ayekale': 'gambar / ayekale', 'gambari i': 'gambari 1', 'gambari ii': 'gambari 2', 'gure /giwasorio': 'yashikira 2'\n",
      "'gwanabe i': 'gwanabe 1', 'gwanabe ii': 'gwanabe 2', 'gwanara': 'gwanara', 'gwaria': 'gwaria'\n",
      "'ibagun': 'ibagun', 'idofian i': 'idofian 1', 'idofian ii': 'idofian 2', 'idofin igbona i': 'idofin / igbana 1'\n",
      "'idofin igbona ii': 'idofin / igbana 2', 'idofin odo - ashe': 'idofin odoashe', 'ifaja': 'ifaja', 'igbaja i': 'igbaja 1'\n",
      "'igbaja ii': 'igbaja 2', 'igbaja iii': 'igbaja 3', 'igbo-idun': 'igboidun', 'igbonna': 'igbomma'\n",
      "'igosun': 'igosun', 'ihaye': 'ihaye', 'ijagbo': 'ijagbo', 'ijara': 'ijara'\n",
      "'ikotun': 'ikotun-kwara', 'ila oja': 'ila- oja', 'ile ire': 'ile-ire', 'ilemona': 'ilemoma'\n",
      "'ilesha': 'ilesha', 'iliale/imoji/erin-mope': 'ilale  / erin / imoji', 'iloffa': 'iloffa', 'egosi/imode': 'imade / egosi'\n",
      "'ipee': 'ipee', 'ira': 'ipetu / rore / aran orin', 'iponrin': 'iponrin', 'bhc ilemona': 'ira'\n",
      "'isanlu i': 'isanlu 1', 'isanlu ii': 'isanlu 2', 'isapa': 'isapa', 'iwo': 'iwo'\n",
      "'jebba': 'jebba', 'jehunkunu': 'jeunkunu', 'kaiama i': 'kaiama 1', 'kaiama ii': 'kaiama 2'\n",
      "'kaiama iii': 'kaiama 3', 'kemanji': 'kemaji', 'kenu/taberu': 'kenu / tabera', 'koro': 'koro'\n",
      "'kpada i': 'kpada 1', 'kpada ii': 'kpada 2', 'kpada iii': 'kpada 3', 'kpura/yakira': 'kpura / yakiru'\n",
      "'lade i': 'lade 1', 'lade ii': 'lade 2', 'lade iii': 'lade 3', 'laduba': 'laduba'\n",
      "'lafiagi i': 'lafiagi 1', 'lafiagi ii': 'lafiagi 2', 'lafiagi iii': 'lafiagi 3', 'lafiagi iv': 'lafiagi 4'\n",
      "'lanwa': 'lanwa', 'm/ngeri': 'm / ngeri', 'megidaa': 'magida', 'malete': 'malete'\n",
      "'marafa/pepele': 'marafa / pepele', 'maya ile apa': 'maya / ileapa', 'obbo aiyegunle i': 'obbo-aiyegunle 1', 'obbo aiyegunle ii': 'obbo-aiyegunle 2'\n",
      "'obbo-ile': 'obbo-ile', 'odo - owa i': 'odo-owa 1', 'odo - owa ii': 'odo-owa 2', 'ogbondoroko reke': 'ogbondoroko'\n",
      "'ogele': 'ogele', 'ogidi': 'ogidi', 'ojoku': 'ojoku', 'ojomu ca': 'ojomo central a'\n",
      "'ojomu cb': 'ojomo central b', 'ojomu nnw': 'ojomu north west', 'ojomu se': 'ojomu south east', 'zarumi/ojueku': 'oju-ekun'\n",
      "'okaka i': 'okaka 1', 'okaka ii': 'okaka 2', 'oke aba': 'oke aba', 'oke ode i': 'oke-ode 1'\n",
      "'oke ode ii': 'oke-ode 2', 'oke onigbin': 'oke onigbin', 'oke ode iii': 'oke-ode 3', 'oke-ogun': 'oka-ogun'\n",
      "'oke-opin /etan': 'oke-opin / etan', 'oke-oyi/ oke ose': 'oke oyi / oke-ose / alalubosa', 'okemi': 'okemi', 'okeso': 'okeso'\n",
      "'okeweru yowere ii': 'okeweru / yow 2', 'oko': 'oko', 'okoerin': 'oko-erin', 'okuta': 'okuta'\n",
      "'okutala': 'okutala', 'olla': 'olla', 'oloje': 'oloje', 'oloru': 'oloru'\n",
      "'omupo': 'omupo', 'onire/odegiwa': 'onire / odegiwa', 'opin': 'opin', 'ora': 'ora'\n",
      "'oro i': 'oro 1', 'oro ii': 'oro 2', 'oro-ago': 'oro-ago', 'osi i': 'osi 1'\n",
      "'osi ii': 'osi 2', 'otte/ballah': 'otte / ballah', 'owode/gbogun': 'owode / gbogun', 'owu': 'owu'\n",
      "'pakunma': 'pakuma', 'pamo/oba/sabaja': 'sabaja / pama / oba', 'patigi i': 'pategi 1', 'patigi ii': 'pategi 2'\n",
      "'patigi iii': 'pategi 3', 'patigi iv': 'pategi 4', 'shao': 'shao', 'share i': 'share 1'\n",
      "'share ii': 'share 2', 'share iii': 'share 3', 'share iv': 'share 4', 'share v': 'share 5'\n",
      "'shawo c': 'shawo central', 'shawo se': 'shawo south east', 'shawo sw': 'shawo south west', 'sinawu/tumbuyam': 'sinawu / tumbiya'\n",
      "'sosoki/yowere': 'sosoki / yowere', 'tsaragi i': 'tsaragi 1', 'tsaragi ii': 'tsaragi 2', 'tsaragi iii': 'tsaragi 3'\n",
      "'shonga i': 'tsonga 1', 'shonga ii': 'tsonga 2', 'shonga iii': 'tsonga 3', 'ubandawaki': 'ubandawaki'\n",
      "'wara/osin/egbejila': 'wara / osin / egbejila', 'wojibe': 'wojibe', 'womi ayaki': 'womi ayaki', 'yashikira': 'yashikira 1'\n"
     ]
    }
   ],
   "source": [
    "from helper import *\n",
    "text = 'C:/Users/ASUS/AppData/Local/Temp/tmpa70zfck3.py'\n",
    "\n",
    "# vlayer = QgsVectorLayer(wards_shapefile, \"airports\", \"ogr\")\n",
    "# vlayer2 = QgsVectorLayer(lga_shapefile, \"SHEET\", \"ogr\")\n",
    "# vlayer3 = QgsVectorLayer(set_extent_shapefile, \"SHEET\", \"ogr\")\n",
    "\n",
    "# for field in vlayer.fields():\n",
    "#     print(field.name(), field.typeName())\n",
    "# vlayer.displayField()\n",
    "\n",
    "api ='5b3ce3597851110001cf62489ff9ae0b501e49cda73e83122c638e05'\n",
    "# main(\"Kwara\")\n",
    "kwara_wards_map = {ward1.lower():ward2.lower() for ward1,ward2 in kwara_wards_map.items()}\n",
    "dct ={}\n",
    "for key,value in kwara_wards_map.items():\n",
    "    dct[key]=value\n",
    "    if len(dct) == 4:\n",
    "        print(str(dct).replace(\"{\",\"\").replace(\"}\",\"\")+\",\")\n",
    "        dct={}\n",
    "# location = geo_location(wards_shapefile,set_extent_shapefile, \"Kwara\", \"Edu\",\"Tsaragi II\")\n",
    "# print(location)\n",
    "# start = '4.544522,8.456104'\n",
    "# end = f\"{location[0]},{location[1]}\"\n",
    "# params = {\"api_key\":api, \"start\":start,\"end\":end}\n",
    "# link =f\"https://api.openrouteservice.org/v2/directions/driving-car\"\n",
    "# r = requests.get(link, params)\n",
    "# print(r.status_code)"
   ]
  },
  {
   "cell_type": "code",
   "execution_count": 12,
   "metadata": {},
   "outputs": [
    {
     "data": {
      "text/plain": [
       "'{\"type\":\"FeatureCollection\",\"metadata\":{\"attribution\":\"openrouteservice.org | OpenStreetMap contributors\",\"service\":\"routing\",\"timestamp\":1698385665043,\"query\":{\"coordinates\":[[4.544522,8.456104],[4.956416828517544,9.065823591445978]],\"profile\":\"driving-car\",\"format\":\"json\"},\"engine\":{\"version\":\"7.1.0\",\"build_date\":\"2023-07-09T01:31:50Z\",\"graph_date\":\"2023-10-22T10:16:37Z\"}},\"features\":[{\"bbox\":[4.544373,8.455836,4.956431,9.066795],\"type\":\"Feature\",\"properties\":{\"transfers\":0,\"fare\":0,\"segments\":[{\"distance\":95097.8,\"duration\":5528.9,\"steps\":[{\"distance\":24.1,\"duration\":1.3,\"type\":11,\"instruction\":\"Head southwest\",\"name\":\"-\",\"way_points\":[0,1]},{\"distance\":12.1,\"duration\":4.3,\"type\":0,\"instruction\":\"Turn left\",\"name\":\"-\",\"way_points\":[1,2]},{\"distance\":3330.8,\"duration\":196.1,\"type\":0,\"instruction\":\"Turn left\",\"name\":\"-\",\"way_points\":[2,41]},{\"distance\":209.6,\"duration\":17.9,\"type\":0,\"instruction\":\"Turn left onto Unity Road\",\"name\":\"Unity Road\",\"way_points\":[41,48]},{\"distance\":1050.7,\"duration\":64.6,\"type\":3,\"instruction\":\"Turn sharp right onto Ibrahim Taiwo Road\",\"name\":\"Ibrahim Taiwo Road\",\"way_points\":[48,68]},{\"distance\":1590.6,\"duration\":67.4,\"type\":0,\"instruction\":\"Turn left onto Ibrahim Taiwo Road, A1\",\"name\":\"Ibrahim Taiwo Road, A1\",\"way_points\":[68,97]},{\"distance\":606.8,\"duration\":25.7,\"type\":1,\"instruction\":\"Turn right onto A14\",\"name\":\"A14\",\"way_points\":[97,112]},{\"distance\":12207.1,\"duration\":516.9,\"type\":6,\"instruction\":\"Continue straight onto Sobi Road, A14\",\"name\":\"Sobi Road, A14\",\"way_points\":[112,277]},{\"distance\":46300.0,\"duration\":1960.9,\"type\":1,\"instruction\":\"Turn right onto Jebba Road, A14\",\"name\":\"Jebba Road, A14\",\"way_points\":[277,352]},{\"distance\":12014.0,\"duration\":508.8,\"type\":6,\"instruction\":\"Continue straight onto A1\",\"name\":\"A1\",\"way_points\":[352,437]},{\"distance\":11610.7,\"duration\":1394.9,\"type\":3,\"instruction\":\"Turn sharp right\",\"name\":\"-\",\"way_points\":[437,455]},{\"distance\":4409.0,\"duration\":529.1,\"type\":12,\"instruction\":\"Keep left\",\"name\":\"-\",\"way_points\":[455,460]},{\"distance\":1012.1,\"duration\":121.4,\"type\":12,\"instruction\":\"Keep left\",\"name\":\"-\",\"way_points\":[460,466]},{\"distance\":444.7,\"duration\":53.4,\"type\":1,\"instruction\":\"Turn right\",\"name\":\"-\",\"way_points\":[466,470]},{\"distance\":127.4,\"duration\":30.6,\"type\":1,\"instruction\":\"Turn right\",\"name\":\"-\",\"way_points\":[470,471]},{\"distance\":148.2,\"duration\":35.6,\"type\":0,\"instruction\":\"Turn left\",\"name\":\"-\",\"way_points\":[471,473]},{\"distance\":0.0,\"duration\":0.0,\"type\":10,\"instruction\":\"Arrive at your destination, on the left\",\"name\":\"-\",\"way_points\":[473,473]}]}],\"way_points\":[0,473],\"summary\":{\"distance\":95097.8,\"duration\":5528.9}},\"geometry\":{\"coordinates\":[[4.544561,8.456038],[4.544373,8.455928],[4.544432,8.455836],[4.545326,8.456363],[4.545741,8.456602],[4.546219,8.456891],[4.5474,8.457571],[4.548062,8.457934],[4.549875,8.45899],[4.550388,8.45929],[4.550656,8.459472],[4.550895,8.459612],[4.55118,8.459815],[4.551484,8.460123],[4.551618,8.460299],[4.551715,8.460436],[4.551841,8.460744],[4.551952,8.461165],[4.552128,8.462275],[4.552254,8.462967],[4.552401,8.463818],[4.55287,8.466586],[4.553535,8.470578],[4.553633,8.471089],[4.553695,8.471476],[4.553825,8.472299],[4.553907,8.472856],[4.554128,8.474529],[4.554158,8.474769],[4.554333,8.475704],[4.554515,8.476535],[4.554606,8.476967],[4.554626,8.477071],[4.554695,8.477409],[4.554932,8.478502],[4.554966,8.478672],[4.555172,8.47963],[4.555241,8.480041],[4.555359,8.480546],[4.55552,8.48107],[4.555615,8.481331],[4.55565,8.481418],[4.555519,8.481483],[4.554916,8.481772],[4.554778,8.48185],[4.554596,8.482025],[4.554499,8.482168],[4.554396,8.48243],[4.554325,8.482633],[4.554617,8.482627],[4.555155,8.482576],[4.555742,8.482497],[4.556017,8.482492],[4.556821,8.4826],[4.557181,8.482662],[4.557455,8.482747],[4.557691,8.482885],[4.557798,8.482975],[4.557895,8.483081],[4.558355,8.483707],[4.558728,8.484233],[4.559391,8.48515],[4.559503,8.485344],[4.559654,8.485657],[4.559751,8.485986],[4.560228,8.487601],[4.560351,8.487894],[4.560454,8.488102],[4.560493,8.488171],[4.560436,8.488203],[4.560336,8.488265],[4.560166,8.488421],[4.559411,8.489232],[4.559,8.489647],[4.558895,8.489793],[4.558787,8.490002],[4.558711,8.490151],[4.558616,8.490324],[4.55841,8.490628],[4.558042,8.491109],[4.557927,8.491257],[4.557786,8.491408],[4.557691,8.49148],[4.556892,8.491995],[4.556292,8.492485],[4.555682,8.493026],[4.55519,8.493422],[4.554472,8.493873],[4.553574,8.494318],[4.553098,8.494552],[4.552557,8.494886],[4.552298,8.495102],[4.551683,8.49556],[4.551441,8.495804],[4.551202,8.496027],[4.55111,8.496087],[4.550032,8.496617],[4.549355,8.496951],[4.549902,8.497872],[4.550097,8.498277],[4.550211,8.498605],[4.550248,8.498755],[4.550388,8.4995],[4.550481,8.499705],[4.550559,8.499813],[4.550639,8.499893],[4.55084,8.500031],[4.55095,8.500076],[4.551262,8.500131],[4.551347,8.500139],[4.551933,8.500183],[4.55274,8.500217],[4.552744,8.500291],[4.552744,8.501198],[4.552743,8.502429],[4.552761,8.502701],[4.552816,8.503012],[4.552866,8.503339],[4.552867,8.503579],[4.552735,8.504504],[4.552681,8.504867],[4.55266,8.505156],[4.552831,8.506488],[4.552972,8.507532],[4.552983,8.507615],[4.553027,8.50794],[4.553036,8.50801],[4.553118,8.508727],[4.553139,8.508884],[4.553197,8.509358],[4.553225,8.509611],[4.553303,8.510213],[4.55347,8.511441],[4.553596,8.512614],[4.5536,8.512657],[4.553635,8.513029],[4.553716,8.514369],[4.553719,8.514405],[4.553725,8.514469],[4.553786,8.515148],[4.553848,8.515829],[4.553913,8.516683],[4.553919,8.516748],[4.553999,8.517659],[4.554048,8.518246],[4.554091,8.518993],[4.554126,8.519771],[4.554112,8.520406],[4.55411,8.520543],[4.554038,8.521562],[4.554016,8.521821],[4.553966,8.52238],[4.553922,8.522715],[4.553915,8.522769],[4.55389,8.522975],[4.553873,8.523116],[4.553773,8.52423],[4.553763,8.524417],[4.553686,8.525038],[4.553454,8.52667],[4.553233,8.528129],[4.553208,8.528283],[4.553192,8.528433],[4.553097,8.529411],[4.552994,8.530339],[4.552904,8.531108],[4.552805,8.532],[4.552771,8.532345],[4.552731,8.532903],[4.552655,8.533959],[4.552622,8.534464],[4.552599,8.534815],[4.552582,8.535093],[4.552557,8.535527],[4.552536,8.535755],[4.552457,8.53676],[4.552339,8.537246],[4.552333,8.537687],[4.552367,8.538165],[4.552371,8.538229],[4.552405,8.538908],[4.552477,8.539565],[4.552529,8.540121],[4.552625,8.540692],[4.552679,8.541043],[4.552721,8.541317],[4.552805,8.541879],[4.552954,8.542963],[4.553156,8.544039],[4.553517,8.54629],[4.553531,8.546454],[4.553889,8.548824],[4.554089,8.549856],[4.554698,8.553844],[4.555131,8.556775],[4.555253,8.557596],[4.55551,8.559593],[4.555716,8.561135],[4.55575,8.561352],[4.556016,8.563559],[4.55603,8.56367],[4.556037,8.563731],[4.556043,8.563786],[4.556235,8.56554],[4.556348,8.566587],[4.556355,8.566651],[4.55651,8.568081],[4.55658,8.568729],[4.556588,8.569297],[4.556647,8.569842],[4.556717,8.570449],[4.556887,8.572074],[4.557139,8.574802],[4.557337,8.576204],[4.557565,8.577238],[4.557818,8.578247],[4.557873,8.578461],[4.558016,8.579084],[4.558205,8.579767],[4.558338,8.580381],[4.55851,8.581055],[4.558621,8.581375],[4.558703,8.58169],[4.558883,8.582114],[4.55896,8.582621],[4.559125,8.582963],[4.559219,8.583526],[4.559412,8.584096],[4.559639,8.584899],[4.559814,8.585616],[4.559847,8.585752],[4.560051,8.586659],[4.560121,8.586997],[4.560162,8.58717],[4.560199,8.587544],[4.560097,8.588021],[4.56002,8.588208],[4.559742,8.588762],[4.559705,8.588859],[4.559642,8.589028],[4.559532,8.589217],[4.559412,8.589364],[4.559289,8.589582],[4.558994,8.58999],[4.55819,8.591188],[4.557873,8.591634],[4.557743,8.591805],[4.557587,8.591951],[4.5575,8.59207],[4.557274,8.592334],[4.55715,8.592496],[4.556932,8.592829],[4.556896,8.592906],[4.556475,8.593782],[4.556232,8.594388],[4.556186,8.59447],[4.556123,8.594542],[4.556018,8.594629],[4.555306,8.594976],[4.554402,8.595595],[4.554119,8.595757],[4.554006,8.595794],[4.55385,8.595885],[4.553555,8.596123],[4.553119,8.596657],[4.552824,8.597035],[4.552603,8.597274],[4.552407,8.597518],[4.55211,8.597904],[4.550851,8.599462],[4.550774,8.599538],[4.550301,8.600182],[4.549687,8.600935],[4.54909,8.601682],[4.548616,8.60224],[4.547966,8.603099],[4.547844,8.603259],[4.546971,8.604311],[4.550384,8.616686],[4.550981,8.618532],[4.551693,8.62033],[4.552095,8.6212],[4.552574,8.622123],[4.553045,8.622966],[4.553661,8.623936],[4.554225,8.624764],[4.554831,8.625597],[4.555518,8.626435],[4.556161,8.627188],[4.556891,8.627946],[4.557595,8.628636],[4.558373,8.629341],[4.577465,8.646023],[4.578737,8.647081],[4.583607,8.651335],[4.584142,8.651839],[4.58455,8.652268],[4.58487,8.652631],[4.585178,8.652981],[4.585485,8.653385],[4.586059,8.6542],[4.589059,8.658935],[4.59204,8.663569],[4.59367,8.666148],[4.598691,8.673895],[4.600793,8.677214],[4.606002,8.685203],[4.610165,8.69176],[4.610814,8.692885],[4.611072,8.693399],[4.611308,8.693966],[4.614097,8.701685],[4.615042,8.704337],[4.617747,8.71193],[4.621748,8.723162],[4.622327,8.724705],[4.622639,8.725458],[4.622948,8.726163],[4.630667,8.74156],[4.630755,8.741736],[4.633436,8.747073],[4.643254,8.766648],[4.650275,8.780582],[4.655414,8.790782],[4.655773,8.791429],[4.656535,8.792698],[4.657313,8.793831],[4.657819,8.794479],[4.687745,8.83282],[4.688797,8.83414],[4.68898,8.83435],[4.689758,8.835227],[4.706714,8.852789],[4.713242,8.859555],[4.721997,8.868628],[4.729652,8.876512],[4.733505,8.880578],[4.73662,8.8838],[4.737361,8.884648],[4.73766,8.885006],[4.752677,8.904192],[4.752814,8.904368],[4.766141,8.921427],[4.776934,8.935196],[4.77708,8.935391],[4.778381,8.936998],[4.779617,8.938575],[4.779695,8.938681],[4.780483,8.939749],[4.781999,8.941683],[4.782502,8.942298],[4.783055,8.942928],[4.783204,8.943075],[4.783382,8.943299],[4.784547,8.944571],[4.784639,8.944687],[4.784859,8.945048],[4.785052,8.945475],[4.786066,8.948422],[4.786295,8.949001],[4.786402,8.949229],[4.786611,8.949589],[4.786762,8.949796],[4.787611,8.950891],[4.78775,8.951092],[4.787894,8.95138],[4.787969,8.951645],[4.788071,8.952604],[4.788172,8.954305],[4.788333,8.956282],[4.788442,8.956943],[4.78851,8.957241],[4.788763,8.958126],[4.78895,8.95864],[4.789058,8.958873],[4.789197,8.959111],[4.790997,8.962036],[4.792239,8.964008],[4.792367,8.964246],[4.792582,8.964755],[4.792739,8.965219],[4.792974,8.966392],[4.79348,8.968552],[4.793581,8.969125],[4.79364,8.969379],[4.793714,8.96963],[4.794095,8.970525],[4.795142,8.972719],[4.795398,8.973185],[4.79565,8.973508],[4.797674,8.975563],[4.798494,8.976444],[4.798628,8.976603],[4.798848,8.976947],[4.799041,8.977339],[4.801656,8.98382],[4.802776,8.986738],[4.80293,8.987052],[4.803273,8.987666],[4.805178,8.99074],[4.805328,8.99102],[4.80556,8.991586],[4.806992,8.995862],[4.807179,8.996478],[4.807277,8.99707],[4.807318,8.997437],[4.807474,8.999381],[4.807517,8.999609],[4.80772,9.000388],[4.808488,9.002841],[4.808563,9.003127],[4.808691,9.003731],[4.808858,9.004892],[4.80918,9.007822],[4.809219,9.00844],[4.809201,9.008749],[4.809019,9.010407],[4.808364,9.013369],[4.808321,9.013692],[4.808305,9.013936],[4.808327,9.014206],[4.80845,9.014895],[4.808837,9.016479],[4.809764,9.020272],[4.809877,9.02079],[4.80997,9.021313],[4.81113,9.03224],[4.811173,9.032757],[4.811184,9.033149],[4.811152,9.033466],[4.811087,9.033775],[4.811005,9.034027],[4.809769,9.03839],[4.809166,9.040629],[4.808836,9.041543],[4.808541,9.042132],[4.807876,9.043321],[4.807549,9.043962],[4.818218,9.046228],[4.830664,9.044723],[4.848175,9.041692],[4.861875,9.039428],[4.863244,9.038915],[4.870695,9.034517],[4.871887,9.03401],[4.873244,9.033808],[4.874547,9.033955],[4.87564,9.034342],[4.877966,9.035631],[4.878519,9.035897],[4.880623,9.037014],[4.882247,9.037523],[4.887492,9.038278],[4.888756,9.038587],[4.905443,9.046002],[4.908408,9.046697],[4.913374,9.047861],[4.931491,9.05211],[4.93312,9.052492],[4.934993,9.053139],[4.946141,9.059285],[4.946318,9.059382],[4.947887,9.060816],[4.948995,9.062334],[4.949425,9.063159],[4.950472,9.065443],[4.951093,9.066795],[4.951562,9.066599],[4.951798,9.066599],[4.954284,9.066605],[4.955102,9.066607],[4.955086,9.065462],[4.955789,9.065531],[4.956431,9.065566]],\"type\":\"LineString\"}}],\"bbox\":[4.544373,8.455836,4.956431,9.066795]}'"
      ]
     },
     "execution_count": 12,
     "metadata": {},
     "output_type": "execute_result"
    }
   ],
   "source": [
    "r.text\n",
    "\"https://www.google.com/maps/dir/'8.456104,4.544522'/9.074566390856697,4.968173660214374\"\n",
    "https://www.google.com/maps/dir/?api=1&origin=4.544522,8.456104&destination=4.968173660214374,9.074566390856697"
   ]
  },
  {
   "cell_type": "code",
   "execution_count": 4,
   "metadata": {},
   "outputs": [
    {
     "name": "stdout",
     "output_type": "stream",
     "text": [
      "Clip (native:clip)\n",
      "\n",
      "This algorithm clips a vector layer using the features of an additional polygon layer. Only the parts of the features in the Input layer that fall within the polygons of the Overlay layer will be added to the resulting layer.\n",
      "\n",
      "The attributes of the features are not modified, although properties such as area or length of the features will be modified by the clipping operation. If such properties are stored as attributes, those attributes will have to be manually updated.\n",
      "\n",
      "\n",
      "----------------\n",
      "Input parameters\n",
      "----------------\n",
      "\n",
      "INPUT: Input layer\n",
      "\n",
      "\tParameter type:\tQgsProcessingParameterFeatureSource\n",
      "\n",
      "\tAccepted data types:\n",
      "\t\t- str: layer ID\n",
      "\t\t- str: layer name\n",
      "\t\t- str: layer source\n",
      "\t\t- QgsProcessingFeatureSourceDefinition\n",
      "\t\t- QgsProperty\n",
      "\t\t- QgsVectorLayer\n",
      "\n",
      "OVERLAY: Overlay layer\n",
      "\n",
      "\tParameter type:\tQgsProcessingParameterFeatureSource\n",
      "\n",
      "\tAccepted data types:\n",
      "\t\t- str: layer ID\n",
      "\t\t- str: layer name\n",
      "\t\t- str: layer source\n",
      "\t\t- QgsProcessingFeatureSourceDefinition\n",
      "\t\t- QgsProperty\n",
      "\t\t- QgsVectorLayer\n",
      "\n",
      "OUTPUT: Clipped\n",
      "\n",
      "\tParameter type:\tQgsProcessingParameterFeatureSink\n",
      "\n",
      "\tAccepted data types:\n",
      "\t\t- str: destination vector file, e.g. 'd:/test.shp'\n",
      "\t\t- str: 'memory:' to store result in temporary memory layer\n",
      "\t\t- str: using vector provider ID prefix and destination URI, e.g. 'postgres:…' to store result in PostGIS table\n",
      "\t\t- QgsProcessingOutputLayerDefinition\n",
      "\t\t- QgsProperty\n",
      "\n",
      "----------------\n",
      "Outputs\n",
      "----------------\n",
      "\n",
      "OUTPUT:  <QgsProcessingOutputVectorLayer>\n",
      "\tClipped\n"
     ]
    }
   ],
   "source": [
    "processing.algorithmHelp(\"native:clip\")\n",
    "# parameters = { 'INPUT' : state_extent, \n",
    "#                'VALUE' : 1, \n",
    "#                 }\n",
    "# point =processing.run('native:selectbylocation', parameters)\n",
    "# /algs = dict()\n",
    "# for alg in QgsApplication.processingRegistry().algorithms():\n",
    "#     algs[alg.displayName()] = alg.id()\n",
    "#     print(alg.displayName(), alg.id() )"
   ]
  }
 ],
 "metadata": {
  "kernelspec": {
   "display_name": "GIS",
   "language": "python",
   "name": "python3"
  },
  "language_info": {
   "codemirror_mode": {
    "name": "ipython",
    "version": 3
   },
   "file_extension": ".py",
   "mimetype": "text/x-python",
   "name": "python",
   "nbconvert_exporter": "python",
   "pygments_lexer": "ipython3",
   "version": "3.11.6"
  }
 },
 "nbformat": 4,
 "nbformat_minor": 2
}
