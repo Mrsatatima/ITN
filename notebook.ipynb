{
 "cells": [
  {
   "cell_type": "code",
   "execution_count": 2,
   "metadata": {},
   "outputs": [
    {
     "name": "stdout",
     "output_type": "stream",
     "text": [
      "['51-100', '251-1000', '101-250', '101-250', '51-100', '101-250', '101-250', '51-100', '51-100', '101-250', '51-100', '51-100', '251-1000', '251-1000', '101-250', '101-250', '51-100', '1001 and up', '51-100', '251-1000', '101-250', '101-250', '51-100', '101-250', '51-100', '101-250', '251-1000']\n",
      "{'0': 1, '1': 3, '2': 2, '17': 4}\n",
      "2\n",
      "1001 and up\n",
      "(4.96187056752213, 9.073571024446025)\n"
     ]
    }
   ],
   "source": [
    "from main  import *\n",
    "text = 'C:/Users/ASUS/AppData/Local/Temp/tmpa70zfck3.py'\n",
    "\n",
    "vlayer = QgsVectorLayer(wards_shapefile, \"airports\", \"ogr\")\n",
    "vlayer2 = QgsVectorLayer(lga_shapefile, \"SHEET\", \"ogr\")\n",
    "vlayer3 = QgsVectorLayer(set_extent_shapefile, \"SHEET\", \"ogr\")\n",
    "\n",
    "# for field in vlayer.fields():\n",
    "#     print(field.name(), field.typeName())\n",
    "# vlayer.displayField()\n",
    "\n",
    "\n",
    "\n",
    "location = geo_location(wards_shapefile,set_extent_shapefile, \"Kwara\", \"Irepodun\",\"Ira\")\n",
    "print(location)"
   ]
  },
  {
   "cell_type": "code",
   "execution_count": null,
   "metadata": {},
   "outputs": [],
   "source": [
    "# processing.algorithmHelp(\"native:selectbylocation\")\n",
    "# parameters = { 'INPUT' : state_extent, \n",
    "#                'VALUE' : 1, \n",
    "#                 }\n",
    "# point =processing.run('native:selectbylocation', parameters)\n",
    "# /algs = dict()\n",
    "# for alg in QgsApplication.processingRegistry().algorithms():\n",
    "#     algs[alg.displayName()] = alg.id()\n",
    "#     print(alg.displayName(), alg.id() )"
   ]
  }
 ],
 "metadata": {
  "kernelspec": {
   "display_name": "GIS",
   "language": "python",
   "name": "python3"
  },
  "language_info": {
   "codemirror_mode": {
    "name": "ipython",
    "version": 3
   },
   "file_extension": ".py",
   "mimetype": "text/x-python",
   "name": "python",
   "nbconvert_exporter": "python",
   "pygments_lexer": "ipython3",
   "version": "3.11.6"
  }
 },
 "nbformat": 4,
 "nbformat_minor": 2
}
