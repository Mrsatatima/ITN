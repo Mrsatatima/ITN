{
 "cells": [
  {
   "cell_type": "code",
   "execution_count": 1,
   "metadata": {},
   "outputs": [],
   "source": [
    "from script import *\n",
    "import re"
   ]
  },
  {
   "cell_type": "code",
   "execution_count": 2,
   "metadata": {},
   "outputs": [
    {
     "name": "stdout",
     "output_type": "stream",
     "text": [
      "2023_Kwara_P3B.xlsx\n",
      "['Guidelines - READ ME', 'Hypotheses', 'List of population', 'STATE SUMMARY', '1. ASA', '2. BARUTEN', '3. EDU', '4. EKITI', '5. IFELODUN', '6. ILORIN EAST', '7. ILORIN SOUTH ', '8. ILORIN WEST', '9. IREPODUN', '10. ISIN', '11. KAIAMA', '12. MORO', '13. OFFA', '14. OKE ERO', '15. OYUN', '16. PATIGI', 'Additional information', 'LGA store location']\n"
     ]
    }
   ],
   "source": [
    "print(file_name)\n",
    "excel_file = pd.ExcelFile(file_name)\n",
    "fle = pd.read_excel(file_name)\n",
    "print(excel_file.sheet_names)\n",
    "df = pd.DataFrame(fle)\n",
    "# print(df)"
   ]
  },
  {
   "cell_type": "code",
   "execution_count": 3,
   "metadata": {},
   "outputs": [
    {
     "name": "stdout",
     "output_type": "stream",
     "text": [
      "['1. ABEOKUTA NORTH', '10. IKENNE', '11. IMEKO AFON', '12. IPOKIA', '13. OBAFEMI OWODE', '14. ODEDA', '15. ODOGBOLU', '16. OGUN WATERSIDE', '17. REMO NORTH', '18. SAGAMU', '19. YEWA NORTH']\n"
     ]
    }
   ],
   "source": [
    "file = \"2021_Ogun_P3B.xlsx\"\n",
    "sheets = get_sheets(file)\n",
    "print(sheets)"
   ]
  },
  {
   "cell_type": "code",
   "execution_count": 82,
   "metadata": {},
   "outputs": [
    {
     "name": "stdout",
     "output_type": "stream",
     "text": [
      "0         Wards List of contiguous communities/ settlements  \\\n",
      "14     TOTORO 3                                          16   \n",
      "2   IBEREKODO 3                                          14   \n",
      "0   IBEREKODO 1                                          14   \n",
      "1   IBEREKODO 2                                          10   \n",
      "15    TOTORO  4                                          13   \n",
      "12     TOTORO 1                                           9   \n",
      "10       SABO 1                                          20   \n",
      "13     TOTORO 2                                          20   \n",
      "6     IKEREKU 1                                          53   \n",
      "7     IKEREKU 2                                          59   \n",
      "3   IBEREKODO 4                                          11   \n",
      "9      OLORUNDA                                          41   \n",
      "4   IBEREKODO 5                                          15   \n",
      "8         IMALA                                          80   \n",
      "11       SABO 2                                          43   \n",
      "5         IDIYA                                          75   \n",
      "\n",
      "0  Population\\n(2021) Cumulative frequency  \n",
      "14               9440                 9440  \n",
      "2               11078                20518  \n",
      "0               13818                34336  \n",
      "1               13927                48263  \n",
      "15              15757                64020  \n",
      "12              16337                80357  \n",
      "10              16799                97156  \n",
      "13              17292               114448  \n",
      "6               18710               133158  \n",
      "7               18809               151967  \n",
      "3               24180               176147  \n",
      "9               25212               201359  \n",
      "4               29381               230740  \n",
      "8               31776               262516  \n",
      "11              54276               316792  \n",
      "5               94877               411669  \n",
      "0 14377\n",
      "1 65835\n",
      "2 117293\n",
      "3 168751\n",
      "4 220209\n",
      "5 271667\n",
      "6 323125\n",
      "7 374583\n",
      "         Wards  Total communities  Population  Cumulative frequency  \\\n",
      "0  IBEREKODO 1               14.0     13818.0               34336.0   \n",
      "1  IBEREKODO 4               11.0     24180.0              176147.0   \n",
      "2  IBEREKODO 4               11.0     24180.0              176147.0   \n",
      "3  IBEREKODO 4               11.0     24180.0              176147.0   \n",
      "4  IBEREKODO 5               15.0     29381.0              230740.0   \n",
      "5        IDIYA               75.0     94877.0              411669.0   \n",
      "6        IDIYA               75.0     94877.0              411669.0   \n",
      "7        IDIYA               75.0     94877.0              411669.0   \n",
      "\n",
      "             Clusters  \n",
      "0   Cluster 1 (14377)  \n",
      "1   Cluster 2 (65835)  \n",
      "2  Cluster 3 (117293)  \n",
      "3  Cluster 4 (168751)  \n",
      "4  Cluster 5 (220209)  \n",
      "5  Cluster 6 (271667)  \n",
      "6  Cluster 7 (323125)  \n",
      "7  Cluster 8 (374583)  \n"
     ]
    }
   ],
   "source": [
    "\n",
    "\n",
    "for sheet in sheets:\n",
    "    demo_df = pd.read_excel(file,sheet_name=sheet)\n",
    "    row_index=actual_header_row(demo_df)\n",
    "    clean_data = remove_first_blank_column(file,row_index,sheet)\n",
    "    new_data = remove_unwanted_columns(clean_data,[\"Wards\",\"List of contiguous communities/ settlements\",\"Population\\n(2021)\"])\n",
    "    base_data = remove_blank_wards_rows(new_data)\n",
    "    subtotal_df = base_data\n",
    "    wards_df = base_data\n",
    "    # print(base_data[\"Wards\"])\n",
    "    for indx in range(len(base_data)):\n",
    "        if base_data[\"Wards\"][indx] == \"sub total\":\n",
    "            wards_df = wards_df.drop(indx)\n",
    "        else:\n",
    "            subtotal_df = subtotal_df.drop(indx)\n",
    "    wards_df=wards_df.reset_index(drop=True)\n",
    "    subtotal_df=subtotal_df.reset_index(drop=True)\n",
    "\n",
    "   \n",
    "    for  indx in range(len(wards_df)):\n",
    "        # wards_df[\"Wards\"][indx]=subtotal_df[\"Wards\"][indx]\n",
    "        wards_df[\"List of contiguous communities/ settlements\"][indx]=subtotal_df[\"List of contiguous communities/ settlements\"][indx]\n",
    "        wards_df[\"Population\\n(2021)\"][indx]= subtotal_df[\"Population\\n(2021)\"][indx]\n",
    "    wards_df = wards_df.sort_values(by='Population\\n(2021)')\n",
    "    wards_df[\"Cumulative frequency\"] = wards_df['Population\\n(2021)'].cumsum()\n",
    "    sum_population = wards_df['Population\\n(2021)'].sum()\n",
    "    population_interval = sum_population//8\n",
    "    start_population = random.choice(range(1000,20000,273))\n",
    "    pop_list = []\n",
    "    for indx in range(8):\n",
    "        pop_list.append(start_population)\n",
    "        start_population = start_population+population_interval\n",
    "\n",
    "    # print(sum_population,population_interval,start_population)\n",
    "    # print(pop_list)\n",
    "    print(wards_df[\"Cumulative frequency\"], wards_df[\"Wards\"])\n",
    "\n",
    "    final_df = pd.DataFrame({\"Wards\":[],\"Total communities\":[],\"Population\":[],\"Cumulative frequency\":[],\"Clusters\":[]})\n",
    "    for i, population in enumerate(pop_list):\n",
    "        print(i, population)\n",
    "        for indx in range(len(wards_df)):\n",
    "            if population <= wards_df[\"Cumulative frequency\"][indx]:\n",
    "                ward = wards_df[\"Wards\"][indx]\n",
    "                com = wards_df[\"List of contiguous communities/ settlements\"][indx]\n",
    "                pop = wards_df[\"Population\\n(2021)\"][indx]\n",
    "                cum = wards_df[\"Cumulative frequency\"][indx]\n",
    "                cluster = f\"Cluster {i+1} ({population})\"\n",
    "                data = {\"Wards\":[ward],\"Total communities\":[com],\"Population\":[pop],\"Cumulative frequency\":[cum],\"Clusters\":[cluster]}\n",
    "                new_row= pd.DataFrame(data)\n",
    "                final_df = pd.concat([final_df, new_row], ignore_index=True)\n",
    "                # print(data)\n",
    "                break \n",
    "            continue     \n",
    "\n",
    "    print(final_df)\n",
    "    break"
   ]
  }
 ],
 "metadata": {
  "kernelspec": {
   "display_name": "GIS",
   "language": "python",
   "name": "python3"
  },
  "language_info": {
   "codemirror_mode": {
    "name": "ipython",
    "version": 3
   },
   "file_extension": ".py",
   "mimetype": "text/x-python",
   "name": "python",
   "nbconvert_exporter": "python",
   "pygments_lexer": "ipython3",
   "version": "3.11.3"
  }
 },
 "nbformat": 4,
 "nbformat_minor": 2
}
