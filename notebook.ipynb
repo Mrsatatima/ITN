{
 "cells": [
  {
   "cell_type": "code",
   "execution_count": 1,
   "metadata": {},
   "outputs": [
    {
     "name": "stdout",
     "output_type": "stream",
     "text": [
      "1\n",
      "[<qgis._core.QgsFeature object at 0x000001FA6C875090>, <qgis._core.QgsFeature object at 0x000001FA6C874F70>, <qgis._core.QgsFeature object at 0x000001FA6C874E50>, <qgis._core.QgsFeature object at 0x000001FA6C875120>, <qgis._core.QgsFeature object at 0x000001FA6C874D30>, <qgis._core.QgsFeature object at 0x000001FA6C8751B0>, <qgis._core.QgsFeature object at 0x000001FA6C875240>, <qgis._core.QgsFeature object at 0x000001FA6C8752D0>, <qgis._core.QgsFeature object at 0x000001FA6C875360>, <qgis._core.QgsFeature object at 0x000001FA6C8753F0>, <qgis._core.QgsFeature object at 0x000001FA6C875480>, <qgis._core.QgsFeature object at 0x000001FA6C875510>, <qgis._core.QgsFeature object at 0x000001FA6C8755A0>, <qgis._core.QgsFeature object at 0x000001FA6C875630>, <qgis._core.QgsFeature object at 0x000001FA6C8756C0>, <qgis._core.QgsFeature object at 0x000001FA6C875750>, <qgis._core.QgsFeature object at 0x000001FA6C874CA0>, <qgis._core.QgsFeature object at 0x000001FA6C874DC0>, <qgis._core.QgsFeature object at 0x000001FA6C8757E0>, <qgis._core.QgsFeature object at 0x000001FA6C875870>, <qgis._core.QgsFeature object at 0x000001FA6C875900>, <qgis._core.QgsFeature object at 0x000001FA6C875990>, <qgis._core.QgsFeature object at 0x000001FA6C875A20>, <qgis._core.QgsFeature object at 0x000001FA6C875AB0>, <qgis._core.QgsFeature object at 0x000001FA6C875B40>, <qgis._core.QgsFeature object at 0x000001FA6C875BD0>, <qgis._core.QgsFeature object at 0x000001FA6C875C60>, <qgis._core.QgsFeature object at 0x000001FA6C875CF0>, <qgis._core.QgsFeature object at 0x000001FA6C875D80>, <qgis._core.QgsFeature object at 0x000001FA6C875E10>, <qgis._core.QgsFeature object at 0x000001FA6C875EA0>, <qgis._core.QgsFeature object at 0x000001FA6C875F30>, <qgis._core.QgsFeature object at 0x000001FA6C875FC0>, <qgis._core.QgsFeature object at 0x000001FA6C876050>, <qgis._core.QgsFeature object at 0x000001FA6C8760E0>, <qgis._core.QgsFeature object at 0x000001FA6C876170>, <qgis._core.QgsFeature object at 0x000001FA6C876200>, <qgis._core.QgsFeature object at 0x000001FA6C876290>, <qgis._core.QgsFeature object at 0x000001FA6C876320>, <qgis._core.QgsFeature object at 0x000001FA6C8763B0>, <qgis._core.QgsFeature object at 0x000001FA6C876440>, <qgis._core.QgsFeature object at 0x000001FA6C8764D0>, <qgis._core.QgsFeature object at 0x000001FA6C876560>, <qgis._core.QgsFeature object at 0x000001FA6C8765F0>, <qgis._core.QgsFeature object at 0x000001FA6C876680>, <qgis._core.QgsFeature object at 0x000001FA6C876710>, <qgis._core.QgsFeature object at 0x000001FA6C8767A0>, <qgis._core.QgsFeature object at 0x000001FA6C876830>, <qgis._core.QgsFeature object at 0x000001FA6C8768C0>, <qgis._core.QgsFeature object at 0x000001FA6C876950>, <qgis._core.QgsFeature object at 0x000001FA6C8769E0>, <qgis._core.QgsFeature object at 0x000001FA6C876A70>, <qgis._core.QgsFeature object at 0x000001FA6C876B00>, <qgis._core.QgsFeature object at 0x000001FA6C876B90>, <qgis._core.QgsFeature object at 0x000001FA6C876C20>, <qgis._core.QgsFeature object at 0x000001FA6C876CB0>, <qgis._core.QgsFeature object at 0x000001FA6C876D40>, <qgis._core.QgsFeature object at 0x000001FA6C876DD0>, <qgis._core.QgsFeature object at 0x000001FA6C876E60>, <qgis._core.QgsFeature object at 0x000001FA6C876EF0>, <qgis._core.QgsFeature object at 0x000001FA6C876F80>, <qgis._core.QgsFeature object at 0x000001FA6C877010>]\n",
      "[<qgis._core.QgsFeature object at 0x000001FA6C874F70>, <qgis._core.QgsFeature object at 0x000001FA6C874E50>, <qgis._core.QgsFeature object at 0x000001FA6C875090>, <qgis._core.QgsFeature object at 0x000001FA6C874D30>, <qgis._core.QgsFeature object at 0x000001FA6C875120>, <qgis._core.QgsFeature object at 0x000001FA6C8751B0>, <qgis._core.QgsFeature object at 0x000001FA6C8752D0>, <qgis._core.QgsFeature object at 0x000001FA6C875240>, <qgis._core.QgsFeature object at 0x000001FA6C875360>]\n",
      "5.155810495916132 9.010513009924454\n"
     ]
    }
   ],
   "source": [
    "from main  import *\n",
    "text = 'C:/Users/ASUS/AppData/Local/Temp/tmpa70zfck3.py'\n",
    "\n",
    "vlayer = QgsVectorLayer(wards_shapefile, \"airports\", \"ogr\")\n",
    "vlayer2 = QgsVectorLayer(lga_shapefile, \"SHEET\", \"ogr\")\n",
    "vlayer3 = QgsVectorLayer(set_extent_shapefile, \"SHEET\", \"ogr\")\n",
    "\n",
    "# for field in vlayer.fields():\n",
    "#     print(field.name(), field.typeName())\n",
    "# vlayer.displayField()\n",
    "\n",
    "\n",
    "def geo_location(wards_layer,extent, state,lga,ward):\n",
    "    query = f'\"statename\"  =  \\'{state}\\' AND  \"lganame\"  =  \\'{kwara_lga_map[lga]}\\'AND \"wardname\" = \\'{kwara_wards_map[ward]}\\''\n",
    "    ward_layer= crt_subset_lyr(wards_layer, query)\n",
    "    ward_extent  = clip_set_ext_layer(extent,ward_layer)\n",
    "    return create_random_point(ward_extent)\n",
    "\n"
   ]
  },
  {
   "cell_type": "code",
   "execution_count": null,
   "metadata": {},
   "outputs": [],
   "source": [
    "# processing.algorithmHelp(\"native:selectbylocation\")\n",
    "# parameters = { 'INPUT' : state_extent, \n",
    "#                'VALUE' : 1, \n",
    "#                 }\n",
    "# point =processing.run('native:selectbylocation', parameters)\n",
    "# /algs = dict()\n",
    "# for alg in QgsApplication.processingRegistry().algorithms():\n",
    "#     algs[alg.displayName()] = alg.id()\n",
    "#     print(alg.displayName(), alg.id() )"
   ]
  }
 ],
 "metadata": {
  "kernelspec": {
   "display_name": "GIS",
   "language": "python",
   "name": "python3"
  },
  "language_info": {
   "codemirror_mode": {
    "name": "ipython",
    "version": 3
   },
   "file_extension": ".py",
   "mimetype": "text/x-python",
   "name": "python",
   "nbconvert_exporter": "python",
   "pygments_lexer": "ipython3",
   "version": "3.11.6"
  }
 },
 "nbformat": 4,
 "nbformat_minor": 2
}
